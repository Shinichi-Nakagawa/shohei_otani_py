{
 "cells": [
  {
   "cell_type": "code",
   "execution_count": 1,
   "metadata": {
    "collapsed": true
   },
   "outputs": [],
   "source": [
    "%matplotlib inline\n",
    "# データを取ってスクレイピングする\n",
    "\n",
    "import pandas as pd\n",
    "\n",
    "# 表示するカラムサイズを指定\n",
    "pd.options.display.max_columns = 60\n",
    "\n",
    "url = 'http://npb.jp/bis/players/01305137.html'  # 察してください\n"
   ]
  },
  {
   "cell_type": "code",
   "execution_count": 2,
   "metadata": {
    "collapsed": true
   },
   "outputs": [],
   "source": [
    "datasets = pd.io.html.read_html(url)  # データを読む&スクレイピング(たったこれだけ)"
   ]
  },
  {
   "cell_type": "code",
   "execution_count": 3,
   "metadata": {
    "collapsed": true
   },
   "outputs": [],
   "source": [
    "# 前処理用の関数を定義します\n",
    "\n",
    "import numpy as np\n",
    "\n",
    "def object_2_float64(df, index):\n",
    "    # 欠損値(多分無いと思うが...)をゼロ埋めしてからのfloat64に変換\n",
    "    return df[index].fillna(0).astype(np.float64)"
   ]
  },
  {
   "cell_type": "code",
   "execution_count": 4,
   "metadata": {
    "collapsed": false
   },
   "outputs": [],
   "source": [
    "# 投手成績を取るよ&ヘッダー行と通算行を削除\n",
    "pitchs = datasets[3].drop([0, len(datasets)-1])"
   ]
  },
  {
   "cell_type": "code",
   "execution_count": 5,
   "metadata": {
    "collapsed": false
   },
   "outputs": [],
   "source": [
    "# 計算可能なデータ型に変換\n",
    "for index in range(2, 25):\n",
    "    pitchs[index] = object_2_float64(pitchs, index)\n"
   ]
  },
  {
   "cell_type": "code",
   "execution_count": 6,
   "metadata": {
    "collapsed": false
   },
   "outputs": [
    {
     "data": {
      "text/html": [
       "<div>\n",
       "<table border=\"1\" class=\"dataframe\">\n",
       "  <thead>\n",
       "    <tr style=\"text-align: right;\">\n",
       "      <th></th>\n",
       "      <th>0</th>\n",
       "      <th>1</th>\n",
       "      <th>2</th>\n",
       "      <th>3</th>\n",
       "      <th>4</th>\n",
       "      <th>5</th>\n",
       "      <th>6</th>\n",
       "      <th>7</th>\n",
       "      <th>8</th>\n",
       "      <th>9</th>\n",
       "      <th>10</th>\n",
       "      <th>11</th>\n",
       "      <th>12</th>\n",
       "      <th>13</th>\n",
       "      <th>14</th>\n",
       "      <th>15</th>\n",
       "      <th>16</th>\n",
       "      <th>17</th>\n",
       "      <th>18</th>\n",
       "      <th>19</th>\n",
       "      <th>20</th>\n",
       "      <th>21</th>\n",
       "      <th>22</th>\n",
       "      <th>23</th>\n",
       "      <th>24</th>\n",
       "    </tr>\n",
       "  </thead>\n",
       "  <tbody>\n",
       "    <tr>\n",
       "      <th>1</th>\n",
       "      <td>2013</td>\n",
       "      <td>北海道日本ハム</td>\n",
       "      <td>13.0</td>\n",
       "      <td>3.0</td>\n",
       "      <td>0.0</td>\n",
       "      <td>0.0</td>\n",
       "      <td>0.0</td>\n",
       "      <td>0.0</td>\n",
       "      <td>0.0</td>\n",
       "      <td>0.0</td>\n",
       "      <td>0.0</td>\n",
       "      <td>1.000</td>\n",
       "      <td>274.0</td>\n",
       "      <td>61.0</td>\n",
       "      <td>0.2</td>\n",
       "      <td>57.0</td>\n",
       "      <td>4.0</td>\n",
       "      <td>33.0</td>\n",
       "      <td>8.0</td>\n",
       "      <td>46.0</td>\n",
       "      <td>2.0</td>\n",
       "      <td>0.0</td>\n",
       "      <td>30.0</td>\n",
       "      <td>29.0</td>\n",
       "      <td>4.23</td>\n",
       "    </tr>\n",
       "    <tr>\n",
       "      <th>2</th>\n",
       "      <td>2014</td>\n",
       "      <td>北海道日本ハム</td>\n",
       "      <td>24.0</td>\n",
       "      <td>11.0</td>\n",
       "      <td>4.0</td>\n",
       "      <td>0.0</td>\n",
       "      <td>0.0</td>\n",
       "      <td>0.0</td>\n",
       "      <td>3.0</td>\n",
       "      <td>2.0</td>\n",
       "      <td>0.0</td>\n",
       "      <td>0.733</td>\n",
       "      <td>639.0</td>\n",
       "      <td>155.0</td>\n",
       "      <td>0.1</td>\n",
       "      <td>125.0</td>\n",
       "      <td>7.0</td>\n",
       "      <td>57.0</td>\n",
       "      <td>4.0</td>\n",
       "      <td>179.0</td>\n",
       "      <td>6.0</td>\n",
       "      <td>1.0</td>\n",
       "      <td>50.0</td>\n",
       "      <td>45.0</td>\n",
       "      <td>2.61</td>\n",
       "    </tr>\n",
       "    <tr>\n",
       "      <th>3</th>\n",
       "      <td>2015</td>\n",
       "      <td>北海道日本ハム</td>\n",
       "      <td>22.0</td>\n",
       "      <td>15.0</td>\n",
       "      <td>5.0</td>\n",
       "      <td>0.0</td>\n",
       "      <td>0.0</td>\n",
       "      <td>0.0</td>\n",
       "      <td>5.0</td>\n",
       "      <td>3.0</td>\n",
       "      <td>0.0</td>\n",
       "      <td>0.750</td>\n",
       "      <td>621.0</td>\n",
       "      <td>160.0</td>\n",
       "      <td>0.2</td>\n",
       "      <td>100.0</td>\n",
       "      <td>7.0</td>\n",
       "      <td>46.0</td>\n",
       "      <td>3.0</td>\n",
       "      <td>196.0</td>\n",
       "      <td>9.0</td>\n",
       "      <td>0.0</td>\n",
       "      <td>40.0</td>\n",
       "      <td>40.0</td>\n",
       "      <td>2.24</td>\n",
       "    </tr>\n",
       "    <tr>\n",
       "      <th>4</th>\n",
       "      <td>2016</td>\n",
       "      <td>北海道日本ハム</td>\n",
       "      <td>15.0</td>\n",
       "      <td>8.0</td>\n",
       "      <td>4.0</td>\n",
       "      <td>0.0</td>\n",
       "      <td>0.0</td>\n",
       "      <td>0.0</td>\n",
       "      <td>3.0</td>\n",
       "      <td>0.0</td>\n",
       "      <td>1.0</td>\n",
       "      <td>0.667</td>\n",
       "      <td>428.0</td>\n",
       "      <td>108.0</td>\n",
       "      <td>0.2</td>\n",
       "      <td>72.0</td>\n",
       "      <td>4.0</td>\n",
       "      <td>37.0</td>\n",
       "      <td>7.0</td>\n",
       "      <td>132.0</td>\n",
       "      <td>4.0</td>\n",
       "      <td>0.0</td>\n",
       "      <td>26.0</td>\n",
       "      <td>23.0</td>\n",
       "      <td>1.90</td>\n",
       "    </tr>\n",
       "  </tbody>\n",
       "</table>\n",
       "</div>"
      ],
      "text/plain": [
       "     0        1     2     3    4    5    6    7    8    9    10     11     12  \\\n",
       "1  2013  北海道日本ハム  13.0   3.0  0.0  0.0  0.0  0.0  0.0  0.0  0.0  1.000  274.0   \n",
       "2  2014  北海道日本ハム  24.0  11.0  4.0  0.0  0.0  0.0  3.0  2.0  0.0  0.733  639.0   \n",
       "3  2015  北海道日本ハム  22.0  15.0  5.0  0.0  0.0  0.0  5.0  3.0  0.0  0.750  621.0   \n",
       "4  2016  北海道日本ハム  15.0   8.0  4.0  0.0  0.0  0.0  3.0  0.0  1.0  0.667  428.0   \n",
       "\n",
       "      13   14     15   16    17   18     19   20   21    22    23    24  \n",
       "1   61.0  0.2   57.0  4.0  33.0  8.0   46.0  2.0  0.0  30.0  29.0  4.23  \n",
       "2  155.0  0.1  125.0  7.0  57.0  4.0  179.0  6.0  1.0  50.0  45.0  2.61  \n",
       "3  160.0  0.2  100.0  7.0  46.0  3.0  196.0  9.0  0.0  40.0  40.0  2.24  \n",
       "4  108.0  0.2   72.0  4.0  37.0  7.0  132.0  4.0  0.0  26.0  23.0  1.90  "
      ]
     },
     "execution_count": 6,
     "metadata": {},
     "output_type": "execute_result"
    }
   ],
   "source": [
    "# 中身をチェック\n",
    "pitchs"
   ]
  },
  {
   "cell_type": "code",
   "execution_count": 7,
   "metadata": {
    "collapsed": false
   },
   "outputs": [
    {
     "data": {
      "text/plain": [
       "1     61.2\n",
       "2    155.1\n",
       "3    160.2\n",
       "4    108.2\n",
       "Name: IP, dtype: float64"
      ]
     },
     "execution_count": 7,
     "metadata": {},
     "output_type": "execute_result"
    }
   ],
   "source": [
    "# 指標値を計算...の前に投球回が別れて出ちゃってるのでくっつけます\n",
    "pitchs['IP'] = pitchs[13] + pitchs[14]\n",
    "pitchs['IP']"
   ]
  },
  {
   "cell_type": "code",
   "execution_count": 8,
   "metadata": {
    "collapsed": false
   },
   "outputs": [
    {
     "data": {
      "text/html": [
       "<div>\n",
       "<table border=\"1\" class=\"dataframe\">\n",
       "  <thead>\n",
       "    <tr style=\"text-align: right;\">\n",
       "      <th></th>\n",
       "      <th>0</th>\n",
       "      <th>K/9</th>\n",
       "      <th>BB/9</th>\n",
       "      <th>HR/9</th>\n",
       "      <th>K/BB</th>\n",
       "      <th>WHIP</th>\n",
       "    </tr>\n",
       "  </thead>\n",
       "  <tbody>\n",
       "    <tr>\n",
       "      <th>1</th>\n",
       "      <td>2013</td>\n",
       "      <td>6.764706</td>\n",
       "      <td>4.852941</td>\n",
       "      <td>0.588235</td>\n",
       "      <td>1.393939</td>\n",
       "      <td>1.470588</td>\n",
       "    </tr>\n",
       "    <tr>\n",
       "      <th>2</th>\n",
       "      <td>2014</td>\n",
       "      <td>10.386847</td>\n",
       "      <td>3.307544</td>\n",
       "      <td>0.406190</td>\n",
       "      <td>3.140351</td>\n",
       "      <td>1.173436</td>\n",
       "    </tr>\n",
       "    <tr>\n",
       "      <th>3</th>\n",
       "      <td>2015</td>\n",
       "      <td>11.011236</td>\n",
       "      <td>2.584270</td>\n",
       "      <td>0.393258</td>\n",
       "      <td>4.260870</td>\n",
       "      <td>0.911361</td>\n",
       "    </tr>\n",
       "    <tr>\n",
       "      <th>4</th>\n",
       "      <td>2016</td>\n",
       "      <td>10.979667</td>\n",
       "      <td>3.077634</td>\n",
       "      <td>0.332717</td>\n",
       "      <td>3.567568</td>\n",
       "      <td>1.007394</td>\n",
       "    </tr>\n",
       "  </tbody>\n",
       "</table>\n",
       "</div>"
      ],
      "text/plain": [
       "      0        K/9      BB/9      HR/9      K/BB      WHIP\n",
       "1  2013   6.764706  4.852941  0.588235  1.393939  1.470588\n",
       "2  2014  10.386847  3.307544  0.406190  3.140351  1.173436\n",
       "3  2015  11.011236  2.584270  0.393258  4.260870  0.911361\n",
       "4  2016  10.979667  3.077634  0.332717  3.567568  1.007394"
      ]
     },
     "execution_count": 8,
     "metadata": {},
     "output_type": "execute_result"
    }
   ],
   "source": [
    "# 試しに計算\n",
    "pitchs['K/9'] = pitchs[19] * 9 / pitchs['IP']\n",
    "pitchs['BB/9'] = pitchs[17] * 9 / pitchs['IP']\n",
    "pitchs['HR/9'] = pitchs[16] * 9 / pitchs['IP']\n",
    "pitchs['K/BB'] = pitchs[19] / pitchs[17]\n",
    "pitchs['WHIP'] = (pitchs[15] +  pitchs[17]) / pitchs['IP']\n",
    "pitchs[[0, 'K/9', 'BB/9', 'HR/9', 'K/BB', 'WHIP']]"
   ]
  },
  {
   "cell_type": "code",
   "execution_count": 9,
   "metadata": {
    "collapsed": false
   },
   "outputs": [
    {
     "data": {
      "text/plain": [
       "<matplotlib.axes._subplots.AxesSubplot at 0x10ddabeb8>"
      ]
     },
     "execution_count": 9,
     "metadata": {},
     "output_type": "execute_result"
    },
    {
     "data": {
      "text/plain": [
       "<matplotlib.figure.Figure at 0x10c434b70>"
      ]
     },
     "metadata": {},
     "output_type": "display_data"
    },
    {
     "data": {
      "image/png": "[encoded data removed]",
      "text/plain": [
       "<matplotlib.figure.Figure at 0x10c40fef0>"
      ]
     },
     "metadata": {},
     "output_type": "display_data"
    }
   ],
   "source": [
    "# 年度ごとのグラフにしてみる\n",
    "import seaborn as sns\n",
    "import matplotlib.pyplot as plt\n",
    "plt.figure(figsize=(20,10))\n",
    "fig, ax = plt.subplots(5);\n",
    "sns.pointplot(x=0, y=\"K/9\", data=pitchs, ax=ax[0])\n",
    "sns.pointplot(x=0, y=\"BB/9\", data=pitchs, ax=ax[1])\n",
    "sns.pointplot(x=0, y=\"HR/9\", data=pitchs, ax=ax[2])\n",
    "sns.pointplot(x=0, y=\"K/BB\", data=pitchs, ax=ax[3])\n",
    "sns.pointplot(x=0, y=\"WHIP\", data=pitchs, ax=ax[4])"
   ]
  },
  {
   "cell_type": "code",
   "execution_count": null,
   "metadata": {
    "collapsed": true
   },
   "outputs": [],
   "source": []
  }
 ],
 "metadata": {
  "kernelspec": {
   "display_name": "Python 3",
   "language": "python",
   "name": "python3"
  },
  "language_info": {
   "codemirror_mode": {
    "name": "ipython",
    "version": 3
   },
   "file_extension": ".py",
   "mimetype": "text/x-python",
   "name": "python",
   "nbconvert_exporter": "python",
   "pygments_lexer": "ipython3",
   "version": "3.5.2"
  }
 },
 "nbformat": 4,
 "nbformat_minor": 0
}
