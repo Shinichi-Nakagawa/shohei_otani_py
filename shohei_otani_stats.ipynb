{
 "cells": [
  {
   "cell_type": "code",
   "execution_count": 1,
   "metadata": {
    "collapsed": true
   },
   "outputs": [],
   "source": [
    "%matplotlib inline\n",
    "# データを取ってスクレイピングする\n",
    "\n",
    "import pandas\n",
    "\n",
    "url = 'http://npb.jp/bis/players/01305137.html'  # 察してください\n",
    "\n"
   ]
  },
  {
   "cell_type": "code",
   "execution_count": 2,
   "metadata": {
    "collapsed": true
   },
   "outputs": [],
   "source": [
    "datasets = pandas.io.html.read_html(url)  # データを読む&スクレイピング(たったこれだけ)"
   ]
  },
  {
   "cell_type": "code",
   "execution_count": 3,
   "metadata": {
    "collapsed": false
   },
   "outputs": [
    {
     "data": {
      "text/plain": [
       "6"
      ]
     },
     "execution_count": 3,
     "metadata": {},
     "output_type": "execute_result"
    }
   ],
   "source": [
    "# 中身を確認する\n",
    "len(datasets)  # 長さ"
   ]
  },
  {
   "cell_type": "code",
   "execution_count": 4,
   "metadata": {
    "collapsed": false
   },
   "outputs": [
    {
     "data": {
      "text/html": [
       "<div>\n",
       "<table border=\"1\" class=\"dataframe\">\n",
       "  <thead>\n",
       "    <tr style=\"text-align: right;\">\n",
       "      <th></th>\n",
       "      <th>0</th>\n",
       "      <th>1</th>\n",
       "      <th>2</th>\n",
       "      <th>3</th>\n",
       "      <th>4</th>\n",
       "      <th>5</th>\n",
       "      <th>6</th>\n",
       "      <th>7</th>\n",
       "      <th>8</th>\n",
       "      <th>9</th>\n",
       "      <th>10</th>\n",
       "    </tr>\n",
       "  </thead>\n",
       "  <tbody>\n",
       "    <tr>\n",
       "      <th>0</th>\n",
       "      <td>NaN</td>\n",
       "      <td>球団サイト選手一覧へ北海道日本ハムファイターズ大谷　翔平11投手2016年7月2日(土)　現...</td>\n",
       "      <td>NaN</td>\n",
       "      <td>北海道日本ハムファイターズ</td>\n",
       "      <td>大谷　翔平</td>\n",
       "      <td>11.0</td>\n",
       "      <td>投手</td>\n",
       "      <td>おおたに・しょうへい</td>\n",
       "      <td>1994年7月5日生 身長193cm 体重92kg 右投 左打</td>\n",
       "      <td>花巻東高</td>\n",
       "      <td>2012年ドラフト1位</td>\n",
       "    </tr>\n",
       "    <tr>\n",
       "      <th>1</th>\n",
       "      <td>NaN</td>\n",
       "      <td>北海道日本ハムファイターズ</td>\n",
       "      <td>NaN</td>\n",
       "      <td>NaN</td>\n",
       "      <td>NaN</td>\n",
       "      <td>NaN</td>\n",
       "      <td>NaN</td>\n",
       "      <td>NaN</td>\n",
       "      <td>NaN</td>\n",
       "      <td>NaN</td>\n",
       "      <td>NaN</td>\n",
       "    </tr>\n",
       "    <tr>\n",
       "      <th>2</th>\n",
       "      <td>大谷　翔平</td>\n",
       "      <td>NaN</td>\n",
       "      <td>NaN</td>\n",
       "      <td>NaN</td>\n",
       "      <td>NaN</td>\n",
       "      <td>NaN</td>\n",
       "      <td>NaN</td>\n",
       "      <td>NaN</td>\n",
       "      <td>NaN</td>\n",
       "      <td>NaN</td>\n",
       "      <td>NaN</td>\n",
       "    </tr>\n",
       "    <tr>\n",
       "      <th>3</th>\n",
       "      <td>11</td>\n",
       "      <td>投手</td>\n",
       "      <td>NaN</td>\n",
       "      <td>NaN</td>\n",
       "      <td>NaN</td>\n",
       "      <td>NaN</td>\n",
       "      <td>NaN</td>\n",
       "      <td>NaN</td>\n",
       "      <td>NaN</td>\n",
       "      <td>NaN</td>\n",
       "      <td>NaN</td>\n",
       "    </tr>\n",
       "    <tr>\n",
       "      <th>4</th>\n",
       "      <td>おおたに・しょうへい</td>\n",
       "      <td>NaN</td>\n",
       "      <td>NaN</td>\n",
       "      <td>NaN</td>\n",
       "      <td>NaN</td>\n",
       "      <td>NaN</td>\n",
       "      <td>NaN</td>\n",
       "      <td>NaN</td>\n",
       "      <td>NaN</td>\n",
       "      <td>NaN</td>\n",
       "      <td>NaN</td>\n",
       "    </tr>\n",
       "    <tr>\n",
       "      <th>5</th>\n",
       "      <td>1994年7月5日生 身長193cm 体重92kg 右投 左打</td>\n",
       "      <td>NaN</td>\n",
       "      <td>NaN</td>\n",
       "      <td>NaN</td>\n",
       "      <td>NaN</td>\n",
       "      <td>NaN</td>\n",
       "      <td>NaN</td>\n",
       "      <td>NaN</td>\n",
       "      <td>NaN</td>\n",
       "      <td>NaN</td>\n",
       "      <td>NaN</td>\n",
       "    </tr>\n",
       "    <tr>\n",
       "      <th>6</th>\n",
       "      <td>花巻東高</td>\n",
       "      <td>NaN</td>\n",
       "      <td>NaN</td>\n",
       "      <td>NaN</td>\n",
       "      <td>NaN</td>\n",
       "      <td>NaN</td>\n",
       "      <td>NaN</td>\n",
       "      <td>NaN</td>\n",
       "      <td>NaN</td>\n",
       "      <td>NaN</td>\n",
       "      <td>NaN</td>\n",
       "    </tr>\n",
       "    <tr>\n",
       "      <th>7</th>\n",
       "      <td>2012年ドラフト1位</td>\n",
       "      <td>NaN</td>\n",
       "      <td>NaN</td>\n",
       "      <td>NaN</td>\n",
       "      <td>NaN</td>\n",
       "      <td>NaN</td>\n",
       "      <td>NaN</td>\n",
       "      <td>NaN</td>\n",
       "      <td>NaN</td>\n",
       "      <td>NaN</td>\n",
       "      <td>NaN</td>\n",
       "    </tr>\n",
       "  </tbody>\n",
       "</table>\n",
       "</div>"
      ],
      "text/plain": [
       "                                0   \\\n",
       "0                              NaN   \n",
       "1                              NaN   \n",
       "2                            大谷　翔平   \n",
       "3                               11   \n",
       "4                       おおたに・しょうへい   \n",
       "5  1994年7月5日生 身長193cm 体重92kg 右投 左打   \n",
       "6                             花巻東高   \n",
       "7                      2012年ドラフト1位   \n",
       "\n",
       "                                                  1   2              3   \\\n",
       "0  球団サイト選手一覧へ北海道日本ハムファイターズ大谷　翔平11投手2016年7月2日(土)　現... NaN  北海道日本ハムファイターズ   \n",
       "1                                      北海道日本ハムファイターズ NaN            NaN   \n",
       "2                                                NaN NaN            NaN   \n",
       "3                                                 投手 NaN            NaN   \n",
       "4                                                NaN NaN            NaN   \n",
       "5                                                NaN NaN            NaN   \n",
       "6                                                NaN NaN            NaN   \n",
       "7                                                NaN NaN            NaN   \n",
       "\n",
       "      4     5    6           7                                8     9   \\\n",
       "0  大谷　翔平  11.0   投手  おおたに・しょうへい  1994年7月5日生 身長193cm 体重92kg 右投 左打  花巻東高   \n",
       "1    NaN   NaN  NaN         NaN                              NaN   NaN   \n",
       "2    NaN   NaN  NaN         NaN                              NaN   NaN   \n",
       "3    NaN   NaN  NaN         NaN                              NaN   NaN   \n",
       "4    NaN   NaN  NaN         NaN                              NaN   NaN   \n",
       "5    NaN   NaN  NaN         NaN                              NaN   NaN   \n",
       "6    NaN   NaN  NaN         NaN                              NaN   NaN   \n",
       "7    NaN   NaN  NaN         NaN                              NaN   NaN   \n",
       "\n",
       "            10  \n",
       "0  2012年ドラフト1位  \n",
       "1          NaN  \n",
       "2          NaN  \n",
       "3          NaN  \n",
       "4          NaN  \n",
       "5          NaN  \n",
       "6          NaN  \n",
       "7          NaN  "
      ]
     },
     "execution_count": 4,
     "metadata": {},
     "output_type": "execute_result"
    }
   ],
   "source": [
    "datasets[0]  # プロフィール"
   ]
  },
  {
   "cell_type": "code",
   "execution_count": 5,
   "metadata": {
    "collapsed": false
   },
   "outputs": [
    {
     "data": {
      "text/html": [
       "<div>\n",
       "<table border=\"1\" class=\"dataframe\">\n",
       "  <thead>\n",
       "    <tr style=\"text-align: right;\">\n",
       "      <th></th>\n",
       "      <th>0</th>\n",
       "      <th>1</th>\n",
       "    </tr>\n",
       "  </thead>\n",
       "  <tbody>\n",
       "    <tr>\n",
       "      <th>0</th>\n",
       "      <td>NaN</td>\n",
       "      <td>北海道日本ハムファイターズ</td>\n",
       "    </tr>\n",
       "    <tr>\n",
       "      <th>1</th>\n",
       "      <td>大谷　翔平</td>\n",
       "      <td>NaN</td>\n",
       "    </tr>\n",
       "    <tr>\n",
       "      <th>2</th>\n",
       "      <td>11</td>\n",
       "      <td>投手</td>\n",
       "    </tr>\n",
       "  </tbody>\n",
       "</table>\n",
       "</div>"
      ],
      "text/plain": [
       "       0              1\n",
       "0    NaN  北海道日本ハムファイターズ\n",
       "1  大谷　翔平            NaN\n",
       "2     11             投手"
      ]
     },
     "execution_count": 5,
     "metadata": {},
     "output_type": "execute_result"
    }
   ],
   "source": [
    "datasets[1]  #  名前とポジション"
   ]
  },
  {
   "cell_type": "code",
   "execution_count": 6,
   "metadata": {
    "collapsed": false
   },
   "outputs": [
    {
     "data": {
      "text/html": [
       "<div>\n",
       "<table border=\"1\" class=\"dataframe\">\n",
       "  <thead>\n",
       "    <tr style=\"text-align: right;\">\n",
       "      <th></th>\n",
       "      <th>0</th>\n",
       "    </tr>\n",
       "  </thead>\n",
       "  <tbody>\n",
       "    <tr>\n",
       "      <th>0</th>\n",
       "      <td>おおたに・しょうへい</td>\n",
       "    </tr>\n",
       "    <tr>\n",
       "      <th>1</th>\n",
       "      <td>1994年7月5日生 身長193cm 体重92kg 右投 左打</td>\n",
       "    </tr>\n",
       "    <tr>\n",
       "      <th>2</th>\n",
       "      <td>花巻東高</td>\n",
       "    </tr>\n",
       "    <tr>\n",
       "      <th>3</th>\n",
       "      <td>2012年ドラフト1位</td>\n",
       "    </tr>\n",
       "  </tbody>\n",
       "</table>\n",
       "</div>"
      ],
      "text/plain": [
       "                                 0\n",
       "0                       おおたに・しょうへい\n",
       "1  1994年7月5日生 身長193cm 体重92kg 右投 左打\n",
       "2                             花巻東高\n",
       "3                      2012年ドラフト1位"
      ]
     },
     "execution_count": 6,
     "metadata": {},
     "output_type": "execute_result"
    }
   ],
   "source": [
    "datasets[2]  # プロフィール(中々データにありつけない...)"
   ]
  },
  {
   "cell_type": "code",
   "execution_count": 7,
   "metadata": {
    "collapsed": false
   },
   "outputs": [
    {
     "data": {
      "text/html": [
       "<div>\n",
       "<table border=\"1\" class=\"dataframe\">\n",
       "  <thead>\n",
       "    <tr style=\"text-align: right;\">\n",
       "      <th></th>\n",
       "      <th>0</th>\n",
       "      <th>1</th>\n",
       "      <th>2</th>\n",
       "      <th>3</th>\n",
       "      <th>4</th>\n",
       "      <th>5</th>\n",
       "      <th>6</th>\n",
       "      <th>7</th>\n",
       "      <th>8</th>\n",
       "      <th>9</th>\n",
       "      <th>...</th>\n",
       "      <th>15</th>\n",
       "      <th>16</th>\n",
       "      <th>17</th>\n",
       "      <th>18</th>\n",
       "      <th>19</th>\n",
       "      <th>20</th>\n",
       "      <th>21</th>\n",
       "      <th>22</th>\n",
       "      <th>23</th>\n",
       "      <th>24</th>\n",
       "    </tr>\n",
       "  </thead>\n",
       "  <tbody>\n",
       "    <tr>\n",
       "      <th>0</th>\n",
       "      <td>年　度</td>\n",
       "      <td>所属球団</td>\n",
       "      <td>登　板</td>\n",
       "      <td>勝　利</td>\n",
       "      <td>敗　北</td>\n",
       "      <td>セ│ブ</td>\n",
       "      <td>ホ│ル</td>\n",
       "      <td>Ｈ　Ｐ</td>\n",
       "      <td>完　投</td>\n",
       "      <td>完封勝</td>\n",
       "      <td>...</td>\n",
       "      <td>安　打</td>\n",
       "      <td>本塁打</td>\n",
       "      <td>四　球</td>\n",
       "      <td>死　球</td>\n",
       "      <td>三　振</td>\n",
       "      <td>暴　投</td>\n",
       "      <td>ボ│ク</td>\n",
       "      <td>失　点</td>\n",
       "      <td>自責点</td>\n",
       "      <td>防御率</td>\n",
       "    </tr>\n",
       "    <tr>\n",
       "      <th>1</th>\n",
       "      <td>2013</td>\n",
       "      <td>北海道日本ハム</td>\n",
       "      <td>13</td>\n",
       "      <td>3</td>\n",
       "      <td>0</td>\n",
       "      <td>0</td>\n",
       "      <td>0</td>\n",
       "      <td>0</td>\n",
       "      <td>0</td>\n",
       "      <td>0</td>\n",
       "      <td>...</td>\n",
       "      <td>57</td>\n",
       "      <td>4</td>\n",
       "      <td>33</td>\n",
       "      <td>8</td>\n",
       "      <td>46</td>\n",
       "      <td>2</td>\n",
       "      <td>0</td>\n",
       "      <td>30</td>\n",
       "      <td>29</td>\n",
       "      <td>4.23</td>\n",
       "    </tr>\n",
       "    <tr>\n",
       "      <th>2</th>\n",
       "      <td>2014</td>\n",
       "      <td>北海道日本ハム</td>\n",
       "      <td>24</td>\n",
       "      <td>11</td>\n",
       "      <td>4</td>\n",
       "      <td>0</td>\n",
       "      <td>0</td>\n",
       "      <td>0</td>\n",
       "      <td>3</td>\n",
       "      <td>2</td>\n",
       "      <td>...</td>\n",
       "      <td>125</td>\n",
       "      <td>7</td>\n",
       "      <td>57</td>\n",
       "      <td>4</td>\n",
       "      <td>179</td>\n",
       "      <td>6</td>\n",
       "      <td>1</td>\n",
       "      <td>50</td>\n",
       "      <td>45</td>\n",
       "      <td>2.61</td>\n",
       "    </tr>\n",
       "    <tr>\n",
       "      <th>3</th>\n",
       "      <td>2015</td>\n",
       "      <td>北海道日本ハム</td>\n",
       "      <td>22</td>\n",
       "      <td>15</td>\n",
       "      <td>5</td>\n",
       "      <td>0</td>\n",
       "      <td>0</td>\n",
       "      <td>0</td>\n",
       "      <td>5</td>\n",
       "      <td>3</td>\n",
       "      <td>...</td>\n",
       "      <td>100</td>\n",
       "      <td>7</td>\n",
       "      <td>46</td>\n",
       "      <td>3</td>\n",
       "      <td>196</td>\n",
       "      <td>9</td>\n",
       "      <td>0</td>\n",
       "      <td>40</td>\n",
       "      <td>40</td>\n",
       "      <td>2.24</td>\n",
       "    </tr>\n",
       "    <tr>\n",
       "      <th>4</th>\n",
       "      <td>2016</td>\n",
       "      <td>北海道日本ハム</td>\n",
       "      <td>14</td>\n",
       "      <td>7</td>\n",
       "      <td>4</td>\n",
       "      <td>0</td>\n",
       "      <td>0</td>\n",
       "      <td>0</td>\n",
       "      <td>3</td>\n",
       "      <td>0</td>\n",
       "      <td>...</td>\n",
       "      <td>67</td>\n",
       "      <td>4</td>\n",
       "      <td>35</td>\n",
       "      <td>7</td>\n",
       "      <td>122</td>\n",
       "      <td>4</td>\n",
       "      <td>0</td>\n",
       "      <td>26</td>\n",
       "      <td>23</td>\n",
       "      <td>2.06</td>\n",
       "    </tr>\n",
       "    <tr>\n",
       "      <th>5</th>\n",
       "      <td>NaN</td>\n",
       "      <td>通　算</td>\n",
       "      <td>73</td>\n",
       "      <td>36</td>\n",
       "      <td>13</td>\n",
       "      <td>0</td>\n",
       "      <td>0</td>\n",
       "      <td>0</td>\n",
       "      <td>11</td>\n",
       "      <td>5</td>\n",
       "      <td>...</td>\n",
       "      <td>349</td>\n",
       "      <td>22</td>\n",
       "      <td>171</td>\n",
       "      <td>22</td>\n",
       "      <td>543</td>\n",
       "      <td>21</td>\n",
       "      <td>1</td>\n",
       "      <td>146</td>\n",
       "      <td>137</td>\n",
       "      <td>2.58</td>\n",
       "    </tr>\n",
       "  </tbody>\n",
       "</table>\n",
       "<p>6 rows × 25 columns</p>\n",
       "</div>"
      ],
      "text/plain": [
       "     0        1    2    3    4    5    6    7    8    9   ...    15   16   17  \\\n",
       "0   年　度     所属球団  登　板  勝　利  敗　北  セ│ブ  ホ│ル  Ｈ　Ｐ  完　投  完封勝  ...   安　打  本塁打  四　球   \n",
       "1  2013  北海道日本ハム   13    3    0    0    0    0    0    0  ...    57    4   33   \n",
       "2  2014  北海道日本ハム   24   11    4    0    0    0    3    2  ...   125    7   57   \n",
       "3  2015  北海道日本ハム   22   15    5    0    0    0    5    3  ...   100    7   46   \n",
       "4  2016  北海道日本ハム   14    7    4    0    0    0    3    0  ...    67    4   35   \n",
       "5   NaN      通　算   73   36   13    0    0    0   11    5  ...   349   22  171   \n",
       "\n",
       "    18   19   20   21   22   23    24  \n",
       "0  死　球  三　振  暴　投  ボ│ク  失　点  自責点   防御率  \n",
       "1    8   46    2    0   30   29  4.23  \n",
       "2    4  179    6    1   50   45  2.61  \n",
       "3    3  196    9    0   40   40  2.24  \n",
       "4    7  122    4    0   26   23  2.06  \n",
       "5   22  543   21    1  146  137  2.58  \n",
       "\n",
       "[6 rows x 25 columns]"
      ]
     },
     "execution_count": 7,
     "metadata": {},
     "output_type": "execute_result"
    }
   ],
   "source": [
    "datasets[3]  # 投手成績(ｷﾀ━━━━(ﾟ∀ﾟ)━━━━!!)"
   ]
  },
  {
   "cell_type": "code",
   "execution_count": 8,
   "metadata": {
    "collapsed": false
   },
   "outputs": [
    {
     "data": {
      "text/html": [
       "<div>\n",
       "<table border=\"1\" class=\"dataframe\">\n",
       "  <thead>\n",
       "    <tr style=\"text-align: right;\">\n",
       "      <th></th>\n",
       "      <th>0</th>\n",
       "      <th>1</th>\n",
       "      <th>2</th>\n",
       "      <th>3</th>\n",
       "      <th>4</th>\n",
       "      <th>5</th>\n",
       "      <th>6</th>\n",
       "      <th>7</th>\n",
       "      <th>8</th>\n",
       "      <th>9</th>\n",
       "      <th>...</th>\n",
       "      <th>13</th>\n",
       "      <th>14</th>\n",
       "      <th>15</th>\n",
       "      <th>16</th>\n",
       "      <th>17</th>\n",
       "      <th>18</th>\n",
       "      <th>19</th>\n",
       "      <th>20</th>\n",
       "      <th>21</th>\n",
       "      <th>22</th>\n",
       "    </tr>\n",
       "  </thead>\n",
       "  <tbody>\n",
       "    <tr>\n",
       "      <th>0</th>\n",
       "      <td>年　度</td>\n",
       "      <td>所属球団</td>\n",
       "      <td>試　合</td>\n",
       "      <td>打　席</td>\n",
       "      <td>打　数</td>\n",
       "      <td>得　点</td>\n",
       "      <td>安　打</td>\n",
       "      <td>二塁打</td>\n",
       "      <td>三塁打</td>\n",
       "      <td>本塁打</td>\n",
       "      <td>...</td>\n",
       "      <td>盗塁刺</td>\n",
       "      <td>犠　打</td>\n",
       "      <td>犠　飛</td>\n",
       "      <td>四　球</td>\n",
       "      <td>死　球</td>\n",
       "      <td>三　振</td>\n",
       "      <td>併殺打</td>\n",
       "      <td>打　率</td>\n",
       "      <td>長打率</td>\n",
       "      <td>出塁率</td>\n",
       "    </tr>\n",
       "    <tr>\n",
       "      <th>1</th>\n",
       "      <td>2013</td>\n",
       "      <td>北海道日本ハム</td>\n",
       "      <td>77</td>\n",
       "      <td>204</td>\n",
       "      <td>189</td>\n",
       "      <td>14</td>\n",
       "      <td>45</td>\n",
       "      <td>15</td>\n",
       "      <td>1</td>\n",
       "      <td>3</td>\n",
       "      <td>...</td>\n",
       "      <td>1</td>\n",
       "      <td>0</td>\n",
       "      <td>2</td>\n",
       "      <td>12</td>\n",
       "      <td>1</td>\n",
       "      <td>64</td>\n",
       "      <td>3</td>\n",
       "      <td>.238</td>\n",
       "      <td>.376</td>\n",
       "      <td>.284</td>\n",
       "    </tr>\n",
       "    <tr>\n",
       "      <th>2</th>\n",
       "      <td>2014</td>\n",
       "      <td>北海道日本ハム</td>\n",
       "      <td>87</td>\n",
       "      <td>234</td>\n",
       "      <td>212</td>\n",
       "      <td>32</td>\n",
       "      <td>58</td>\n",
       "      <td>17</td>\n",
       "      <td>1</td>\n",
       "      <td>10</td>\n",
       "      <td>...</td>\n",
       "      <td>0</td>\n",
       "      <td>0</td>\n",
       "      <td>1</td>\n",
       "      <td>21</td>\n",
       "      <td>0</td>\n",
       "      <td>48</td>\n",
       "      <td>4</td>\n",
       "      <td>.274</td>\n",
       "      <td>.505</td>\n",
       "      <td>.338</td>\n",
       "    </tr>\n",
       "    <tr>\n",
       "      <th>3</th>\n",
       "      <td>2015</td>\n",
       "      <td>北海道日本ハム</td>\n",
       "      <td>70</td>\n",
       "      <td>119</td>\n",
       "      <td>109</td>\n",
       "      <td>15</td>\n",
       "      <td>22</td>\n",
       "      <td>4</td>\n",
       "      <td>0</td>\n",
       "      <td>5</td>\n",
       "      <td>...</td>\n",
       "      <td>0</td>\n",
       "      <td>0</td>\n",
       "      <td>2</td>\n",
       "      <td>8</td>\n",
       "      <td>0</td>\n",
       "      <td>43</td>\n",
       "      <td>1</td>\n",
       "      <td>.202</td>\n",
       "      <td>.376</td>\n",
       "      <td>.252</td>\n",
       "    </tr>\n",
       "    <tr>\n",
       "      <th>4</th>\n",
       "      <td>2016</td>\n",
       "      <td>北海道日本ハム</td>\n",
       "      <td>44</td>\n",
       "      <td>141</td>\n",
       "      <td>116</td>\n",
       "      <td>25</td>\n",
       "      <td>39</td>\n",
       "      <td>8</td>\n",
       "      <td>0</td>\n",
       "      <td>9</td>\n",
       "      <td>...</td>\n",
       "      <td>0</td>\n",
       "      <td>0</td>\n",
       "      <td>2</td>\n",
       "      <td>22</td>\n",
       "      <td>1</td>\n",
       "      <td>31</td>\n",
       "      <td>2</td>\n",
       "      <td>.336</td>\n",
       "      <td>.638</td>\n",
       "      <td>.440</td>\n",
       "    </tr>\n",
       "    <tr>\n",
       "      <th>5</th>\n",
       "      <td>NaN</td>\n",
       "      <td>通　算</td>\n",
       "      <td>278</td>\n",
       "      <td>698</td>\n",
       "      <td>626</td>\n",
       "      <td>86</td>\n",
       "      <td>164</td>\n",
       "      <td>44</td>\n",
       "      <td>2</td>\n",
       "      <td>27</td>\n",
       "      <td>...</td>\n",
       "      <td>1</td>\n",
       "      <td>0</td>\n",
       "      <td>7</td>\n",
       "      <td>63</td>\n",
       "      <td>2</td>\n",
       "      <td>186</td>\n",
       "      <td>10</td>\n",
       "      <td>.262</td>\n",
       "      <td>.468</td>\n",
       "      <td>.328</td>\n",
       "    </tr>\n",
       "  </tbody>\n",
       "</table>\n",
       "<p>6 rows × 23 columns</p>\n",
       "</div>"
      ],
      "text/plain": [
       "     0        1    2    3    4    5    6    7    8    9   ...    13   14   15  \\\n",
       "0   年　度     所属球団  試　合  打　席  打　数  得　点  安　打  二塁打  三塁打  本塁打  ...   盗塁刺  犠　打  犠　飛   \n",
       "1  2013  北海道日本ハム   77  204  189   14   45   15    1    3  ...     1    0    2   \n",
       "2  2014  北海道日本ハム   87  234  212   32   58   17    1   10  ...     0    0    1   \n",
       "3  2015  北海道日本ハム   70  119  109   15   22    4    0    5  ...     0    0    2   \n",
       "4  2016  北海道日本ハム   44  141  116   25   39    8    0    9  ...     0    0    2   \n",
       "5   NaN      通　算  278  698  626   86  164   44    2   27  ...     1    0    7   \n",
       "\n",
       "    16   17   18   19    20    21    22  \n",
       "0  四　球  死　球  三　振  併殺打   打　率   長打率   出塁率  \n",
       "1   12    1   64    3  .238  .376  .284  \n",
       "2   21    0   48    4  .274  .505  .338  \n",
       "3    8    0   43    1  .202  .376  .252  \n",
       "4   22    1   31    2  .336  .638  .440  \n",
       "5   63    2  186   10  .262  .468  .328  \n",
       "\n",
       "[6 rows x 23 columns]"
      ]
     },
     "execution_count": 8,
     "metadata": {},
     "output_type": "execute_result"
    }
   ],
   "source": [
    "datasets[4]  # 打撃成績(欲しかったやつｷﾀ━━━━(ﾟ∀ﾟ)━━━━!!)"
   ]
  },
  {
   "cell_type": "code",
   "execution_count": 9,
   "metadata": {
    "collapsed": true
   },
   "outputs": [],
   "source": [
    "\"\"\"\n",
    "以下のStatsを年度ごとに比較して打撃の変化を探る\n",
    "参考： https://ja.wikipedia.org/wiki/野球の各種記録\n",
    "OPS:出塁率 + 長打率\n",
    "IsoD:出塁率 - 打率、プラスであればあるほど我慢強い\n",
    "IsoP:長打率 - 打率、差が大きいと純粋にパワーあふれる打者という判断\n",
    "BB/K: 四球数 / 三振数 三振一個取られる度に何個四球を奪っているか(1以上が優秀、0.5未満は問題有り)\n",
    "\"\"\"\n",
    "\n",
    "# バッティング成績だけ取るよ(インデックスは覚えておく)\n",
    "atbats = datasets[4].drop([0, 5])\n"
   ]
  },
  {
   "cell_type": "code",
   "execution_count": 10,
   "metadata": {
    "collapsed": false
   },
   "outputs": [
    {
     "name": "stdout",
     "output_type": "stream",
     "text": [
      "1    .284\n",
      "2    .338\n",
      "3    .252\n",
      "4    .440\n",
      "Name: 22, dtype: object\n",
      "1    .376\n",
      "2    .505\n",
      "3    .376\n",
      "4    .638\n",
      "Name: 21, dtype: object\n"
     ]
    }
   ],
   "source": [
    "# 早速計算してみる、計算結果を列として追加\n",
    "# 出塁率, 長打率(データ型含め確認)\n",
    "print(atbats[22])\n",
    "print(atbats[21])"
   ]
  },
  {
   "cell_type": "code",
   "execution_count": 11,
   "metadata": {
    "collapsed": false
   },
   "outputs": [],
   "source": [
    "# object...のままだと計算出来ないのでキャストしてみる、必要な項目から\n",
    "import numpy as np\n",
    "atbats['obp'] = atbats[22].fillna(0).astype(np.float64)  # 出塁率\n",
    "atbats['slg'] = atbats[21].fillna(0).astype(np.float64)  # 長打率\n",
    "atbats['ba'] = atbats[20].fillna(0).astype(np.float64)  # 打率\n",
    "atbats['bb'] = atbats[16].fillna(0).astype(np.float64)  # 四球\n",
    "atbats['so'] = atbats[18].fillna(0).astype(np.float64)  # 三振"
   ]
  },
  {
   "cell_type": "code",
   "execution_count": 12,
   "metadata": {
    "collapsed": false
   },
   "outputs": [
    {
     "data": {
      "text/html": [
       "<div>\n",
       "<table border=\"1\" class=\"dataframe\">\n",
       "  <thead>\n",
       "    <tr style=\"text-align: right;\">\n",
       "      <th></th>\n",
       "      <th>obp</th>\n",
       "      <th>slg</th>\n",
       "      <th>ba</th>\n",
       "      <th>bb</th>\n",
       "      <th>so</th>\n",
       "    </tr>\n",
       "  </thead>\n",
       "  <tbody>\n",
       "    <tr>\n",
       "      <th>1</th>\n",
       "      <td>0.284</td>\n",
       "      <td>0.376</td>\n",
       "      <td>0.238</td>\n",
       "      <td>12.0</td>\n",
       "      <td>64.0</td>\n",
       "    </tr>\n",
       "    <tr>\n",
       "      <th>2</th>\n",
       "      <td>0.338</td>\n",
       "      <td>0.505</td>\n",
       "      <td>0.274</td>\n",
       "      <td>21.0</td>\n",
       "      <td>48.0</td>\n",
       "    </tr>\n",
       "    <tr>\n",
       "      <th>3</th>\n",
       "      <td>0.252</td>\n",
       "      <td>0.376</td>\n",
       "      <td>0.202</td>\n",
       "      <td>8.0</td>\n",
       "      <td>43.0</td>\n",
       "    </tr>\n",
       "    <tr>\n",
       "      <th>4</th>\n",
       "      <td>0.440</td>\n",
       "      <td>0.638</td>\n",
       "      <td>0.336</td>\n",
       "      <td>22.0</td>\n",
       "      <td>31.0</td>\n",
       "    </tr>\n",
       "  </tbody>\n",
       "</table>\n",
       "</div>"
      ],
      "text/plain": [
       "     obp    slg     ba    bb    so\n",
       "1  0.284  0.376  0.238  12.0  64.0\n",
       "2  0.338  0.505  0.274  21.0  48.0\n",
       "3  0.252  0.376  0.202   8.0  43.0\n",
       "4  0.440  0.638  0.336  22.0  31.0"
      ]
     },
     "execution_count": 12,
     "metadata": {},
     "output_type": "execute_result"
    }
   ],
   "source": [
    "# 計算に必要な項目を出してみる\n",
    "atbats[['obp', 'slg', 'ba', 'bb', 'so']]"
   ]
  },
  {
   "cell_type": "code",
   "execution_count": 13,
   "metadata": {
    "collapsed": false
   },
   "outputs": [
    {
     "data": {
      "text/html": [
       "<div>\n",
       "<table border=\"1\" class=\"dataframe\">\n",
       "  <thead>\n",
       "    <tr style=\"text-align: right;\">\n",
       "      <th></th>\n",
       "      <th>YEAR</th>\n",
       "      <th>OPS</th>\n",
       "      <th>isoD</th>\n",
       "      <th>isoP</th>\n",
       "      <th>BB/K</th>\n",
       "    </tr>\n",
       "  </thead>\n",
       "  <tbody>\n",
       "    <tr>\n",
       "      <th>1</th>\n",
       "      <td>2013</td>\n",
       "      <td>0.660</td>\n",
       "      <td>0.046</td>\n",
       "      <td>0.138</td>\n",
       "      <td>0.187500</td>\n",
       "    </tr>\n",
       "    <tr>\n",
       "      <th>2</th>\n",
       "      <td>2014</td>\n",
       "      <td>0.843</td>\n",
       "      <td>0.064</td>\n",
       "      <td>0.231</td>\n",
       "      <td>0.437500</td>\n",
       "    </tr>\n",
       "    <tr>\n",
       "      <th>3</th>\n",
       "      <td>2015</td>\n",
       "      <td>0.628</td>\n",
       "      <td>0.050</td>\n",
       "      <td>0.174</td>\n",
       "      <td>0.186047</td>\n",
       "    </tr>\n",
       "    <tr>\n",
       "      <th>4</th>\n",
       "      <td>2016</td>\n",
       "      <td>1.078</td>\n",
       "      <td>0.104</td>\n",
       "      <td>0.302</td>\n",
       "      <td>0.709677</td>\n",
       "    </tr>\n",
       "  </tbody>\n",
       "</table>\n",
       "</div>"
      ],
      "text/plain": [
       "   YEAR    OPS   isoD   isoP      BB/K\n",
       "1  2013  0.660  0.046  0.138  0.187500\n",
       "2  2014  0.843  0.064  0.231  0.437500\n",
       "3  2015  0.628  0.050  0.174  0.186047\n",
       "4  2016  1.078  0.104  0.302  0.709677"
      ]
     },
     "execution_count": 13,
     "metadata": {},
     "output_type": "execute_result"
    }
   ],
   "source": [
    "# 一気に計算して出してみるよ!\n",
    "atbats['YEAR'] = atbats[0]\n",
    "atbats['OPS'] = atbats['obp'] + atbats['slg']\n",
    "atbats['isoD'] = atbats['obp'] - atbats['ba']\n",
    "atbats['isoP'] = atbats['slg'] - atbats['ba']\n",
    "atbats['BB/K'] = atbats['bb'] / atbats['so']\n",
    "atbats[['YEAR', 'OPS', 'isoD', 'isoP', 'BB/K']] "
   ]
  },
  {
   "cell_type": "code",
   "execution_count": 14,
   "metadata": {
    "collapsed": false
   },
   "outputs": [
    {
     "data": {
      "text/plain": [
       "<matplotlib.axes._subplots.AxesSubplot at 0x108c56748>"
      ]
     },
     "execution_count": 14,
     "metadata": {},
     "output_type": "execute_result"
    },
    {
     "data": {
      "image/png": "[encoded data removed]",
      "text/plain": [
       "<matplotlib.figure.Figure at 0x10745d748>"
      ]
     },
     "metadata": {},
     "output_type": "display_data"
    }
   ],
   "source": [
    "# グラフにしてみる\n",
    "import seaborn as sns\n",
    "# OPS\n",
    "sns.pointplot(x=\"YEAR\", y=\"OPS\", data=atbats)"
   ]
  },
  {
   "cell_type": "code",
   "execution_count": 15,
   "metadata": {
    "collapsed": false
   },
   "outputs": [
    {
     "data": {
      "text/plain": [
       "<matplotlib.axes._subplots.AxesSubplot at 0x10745db70>"
      ]
     },
     "execution_count": 15,
     "metadata": {},
     "output_type": "execute_result"
    },
    {
     "data": {
      "image/png": "[encoded data removed]",
      "text/plain": [
       "<matplotlib.figure.Figure at 0x108cce1d0>"
      ]
     },
     "metadata": {},
     "output_type": "display_data"
    }
   ],
   "source": [
    "# isoD\n",
    "sns.pointplot(x=\"YEAR\", y=\"isoD\", data=atbats)"
   ]
  },
  {
   "cell_type": "code",
   "execution_count": 16,
   "metadata": {
    "collapsed": false
   },
   "outputs": [
    {
     "data": {
      "text/plain": [
       "<matplotlib.axes._subplots.AxesSubplot at 0x108e75b38>"
      ]
     },
     "execution_count": 16,
     "metadata": {},
     "output_type": "execute_result"
    },
    {
     "data": {
      "image/png": "[encoded data removed]",
      "text/plain": [
       "<matplotlib.figure.Figure at 0x108ec12b0>"
      ]
     },
     "metadata": {},
     "output_type": "display_data"
    }
   ],
   "source": [
    "# isoP\n",
    "sns.pointplot(x=\"YEAR\", y=\"isoP\", data=atbats)"
   ]
  },
  {
   "cell_type": "code",
   "execution_count": 17,
   "metadata": {
    "collapsed": false
   },
   "outputs": [
    {
     "data": {
      "text/plain": [
       "<matplotlib.axes._subplots.AxesSubplot at 0x108ee0908>"
      ]
     },
     "execution_count": 17,
     "metadata": {},
     "output_type": "execute_result"
    },
    {
     "data": {
      "image/png": "[encoded data removed]",
      "text/plain": [
       "<matplotlib.figure.Figure at 0x108f976d8>"
      ]
     },
     "metadata": {},
     "output_type": "display_data"
    }
   ],
   "source": [
    "# BB/K\n",
    "sns.pointplot(x=\"YEAR\", y=\"BB/K\", data=atbats)"
   ]
  },
  {
   "cell_type": "code",
   "execution_count": null,
   "metadata": {
    "collapsed": true
   },
   "outputs": [],
   "source": []
  }
 ],
 "metadata": {
  "kernelspec": {
   "display_name": "Python 3",
   "language": "python",
   "name": "python3"
  },
  "language_info": {
   "codemirror_mode": {
    "name": "ipython",
    "version": 3
   },
   "file_extension": ".py",
   "mimetype": "text/x-python",
   "name": "python",
   "nbconvert_exporter": "python",
   "pygments_lexer": "ipython3",
   "version": "3.5.2"
  }
 },
 "nbformat": 4,
 "nbformat_minor": 0
}
